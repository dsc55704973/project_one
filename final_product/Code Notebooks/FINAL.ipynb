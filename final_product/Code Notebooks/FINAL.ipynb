{
 "cells": [
  {
   "cell_type": "markdown",
   "metadata": {},
   "source": [
    "# Analysis of Energy Company Stock Trends & Financial Data"
   ]
  },
  {
   "cell_type": "markdown",
   "metadata": {},
   "source": [
    "This notebook is our final rendition of all our amalgamated code, and includes the collective work of Daniel Jackson, Daniel Carrillo, and Holly Shermenzagas, complete with an API call, CSV data, visualization models, and application of the embedded modules.  Subject to further development."
   ]
  },
  {
   "cell_type": "code",
   "execution_count": 5,
   "metadata": {},
   "outputs": [],
   "source": [
    "# Dependencies\n",
    "import os, glob\n",
    "import time\n",
    "import json\n",
    "import requests\n",
    "from scipy.stats import linregress\n",
    "from matplotlib import pyplot as plt\n",
    "from scipy.stats import stats\n",
    "from sklearn import datasets\n",
    "import pandas as pd\n",
    "import numpy as np\n",
    "from csv import writer\n",
    "from csv import reader\n",
    "from API_key import my_key\n",
    "\n",
    "%matplotlib inline\n",
    "api_key = my_key"
   ]
  },
  {
   "cell_type": "markdown",
   "metadata": {},
   "source": [
    "# Section 1: Alpha Vantage API Call"
   ]
  },
  {
   "cell_type": "markdown",
   "metadata": {},
   "source": [
    "This section is purposed for the API call to Alpha Vantage for quarterly income statement data for a defined portfolio of energy companies, thereby computing relevent financial ratios for further analysis."
   ]
  },
  {
   "cell_type": "code",
   "execution_count": 7,
   "metadata": {
    "scrolled": true
   },
   "outputs": [
    {
     "data": {
      "text/html": [
       "<div>\n",
       "<style scoped>\n",
       "    .dataframe tbody tr th:only-of-type {\n",
       "        vertical-align: middle;\n",
       "    }\n",
       "\n",
       "    .dataframe tbody tr th {\n",
       "        vertical-align: top;\n",
       "    }\n",
       "\n",
       "    .dataframe thead th {\n",
       "        text-align: right;\n",
       "    }\n",
       "</style>\n",
       "<table border=\"1\" class=\"dataframe\">\n",
       "  <thead>\n",
       "    <tr style=\"text-align: right;\">\n",
       "      <th></th>\n",
       "      <th>Symbol</th>\n",
       "      <th>Name</th>\n",
       "      <th>Exchange</th>\n",
       "    </tr>\n",
       "  </thead>\n",
       "  <tbody>\n",
       "    <tr>\n",
       "      <th>0</th>\n",
       "      <td>APA</td>\n",
       "      <td>Apache Corp</td>\n",
       "      <td>S&amp;P500</td>\n",
       "    </tr>\n",
       "    <tr>\n",
       "      <th>1</th>\n",
       "      <td>BKR</td>\n",
       "      <td>Baker Hughes</td>\n",
       "      <td>S&amp;P500</td>\n",
       "    </tr>\n",
       "    <tr>\n",
       "      <th>2</th>\n",
       "      <td>COG</td>\n",
       "      <td>Cabot Oil &amp; Gas Corp</td>\n",
       "      <td>S&amp;P500</td>\n",
       "    </tr>\n",
       "    <tr>\n",
       "      <th>3</th>\n",
       "      <td>COP</td>\n",
       "      <td>Conocophillips</td>\n",
       "      <td>S&amp;P500</td>\n",
       "    </tr>\n",
       "    <tr>\n",
       "      <th>4</th>\n",
       "      <td>CVX</td>\n",
       "      <td>Chevron Corp</td>\n",
       "      <td>S&amp;P500</td>\n",
       "    </tr>\n",
       "  </tbody>\n",
       "</table>\n",
       "</div>"
      ],
      "text/plain": [
       "  Symbol                  Name Exchange\n",
       "0    APA           Apache Corp   S&P500\n",
       "1    BKR          Baker Hughes   S&P500\n",
       "2    COG  Cabot Oil & Gas Corp   S&P500\n",
       "3    COP        Conocophillips   S&P500\n",
       "4    CVX          Chevron Corp   S&P500"
      ]
     },
     "execution_count": 7,
     "metadata": {},
     "output_type": "execute_result"
    }
   ],
   "source": [
    "df=pd.read_csv('../RESOURCES/Stocks_v3.csv')  \n",
    "df.head()"
   ]
  },
  {
   "cell_type": "code",
   "execution_count": null,
   "metadata": {},
   "outputs": [],
   "source": [
    "df[\"Quarter\"] = \"\"\n",
    "df[\"Revenue\"] = \"\"\n",
    "df[\"EBIT\"] = \"\"\n",
    "df[\"Debt\"] = \"\"\n",
    "df[\"Dividend Payout\"] = \"\"\n",
    "\n",
    "df.head()"
   ]
  },
  {
   "cell_type": "code",
   "execution_count": null,
   "metadata": {},
   "outputs": [],
   "source": [
    "symbols=list(df[\"Symbol\"])\n",
    "Quarter=[]\n",
    "Revenue=[]\n",
    "EBIT=[]\n",
    "Debt=[]\n",
    "Dividend_Payout=[]\n",
    "\n",
    "print(symbols)\n",
    "symbols[0]"
   ]
  },
  {
   "cell_type": "code",
   "execution_count": null,
   "metadata": {},
   "outputs": [],
   "source": [
    "#quarter 1\n",
    "\n",
    "url = \"https://www.alphavantage.co/query?\"\n",
    "\n",
    "Quarter=[]\n",
    "Revenue=[]\n",
    "EBIT=[]\n",
    "Debt=[]\n",
    "Dividend_Payout=[]\n",
    "counter = 0\n",
    "print('Beginning Data Retrieval')\n",
    "print('------------------------------')\n",
    "for symbol in symbols:\n",
    "#     if response_raw.status_code == 200:\n",
    "    try:\n",
    "        query_url_is= f\"{url}function=INCOME_STATEMENT&symbol={symbol}&apikey={api_key}\"\n",
    "        response_raw = requests.get(query_url_is)\n",
    "        response_is = response_raw.json()\n",
    "        Quarter.append(response_is['quarterlyReports'][0]['fiscalDateEnding'])\n",
    "        print(f'Processing data for {symbol}')\n",
    "    except:\n",
    "        print(f'Ticker NOT FOUND for {symbol}')\n",
    "# run 5 times every minute\n",
    "    counter += 1\n",
    "    if (counter%4 == 0):\n",
    "        time.sleep(60)\n",
    "print('-----------------------------')\n",
    "print('Data Retrieval Complete')\n",
    "print('-----------------------------')\n",
    "print(Quarter)"
   ]
  },
  {
   "cell_type": "code",
   "execution_count": null,
   "metadata": {},
   "outputs": [],
   "source": [
    "# quarter 1\n",
    "\n",
    "for index, row in df.iterrows():\n",
    "    try:\n",
    "        url = \"https://www.alphavantage.co/query?\"\n",
    "        symbol=row[\"Symbol\"]\n",
    "        # income statement calls\n",
    "        query_url_is = f\"{url}function=INCOME_STATEMENT&symbol={symbol}&apikey={api_key}\"\n",
    "        response_is=requests.get(query_url_is).json()\n",
    "        df.loc[index, \"Quarter\"]=response_is['quarterlyReports'][0]['fiscalDateEnding']\n",
    "        df.loc[index, \"Revenue\"]=response_is['quarterlyReports'][0]['totalRevenue']\n",
    "        df.loc[index, \"EBIT\"]=response_is['quarterlyReports'][0]['ebit']\n",
    "        # balance sheet calls\n",
    "        query_url_bs = f\"{url}function=BALANCE_SHEET&symbol={symbol}&apikey={api_key}\"\n",
    "        response_bs=requests.get(query_url_bs).json()\n",
    "        df.loc[index, \"Debt\"]=response_bs['quarterlyReports'][0]['longTermDebt']\n",
    "        # cash flow statement calls\n",
    "        query_url_cf = f\"{url}function=CASH_FLOW&symbol={symbol}&apikey={api_key}\"\n",
    "        response_cf=requests.get(query_url_cf).json()\n",
    "        df.loc[index, \"Dividend Payout\"]=response_cf['quarterlyReports'][0]['dividendPayout']\n",
    "    except (KeyError, IndexError):\n",
    "        (f'No ticker found')\n"
   ]
  },
  {
   "cell_type": "code",
   "execution_count": null,
   "metadata": {},
   "outputs": [],
   "source": [
    "# quarter 2\n",
    "df_2=pd.read_csv('Resources/Stocks_v3.csv')\n",
    "for index, row in df.iterrows():\n",
    "    try:\n",
    "        url = \"https://www.alphavantage.co/query?\"\n",
    "        symbol=row[\"Symbol\"]\n",
    "        # income statement calls\n",
    "        query_url_is = f\"{url}function=INCOME_STATEMENT&symbol={symbol}&apikey={api_key}\"\n",
    "        response_is=requests.get(query_url_is).json()\n",
    "        df_2.loc[index, \"Quarter\"]=response_is['quarterlyReports'][1]['fiscalDateEnding']\n",
    "        df_2.loc[index, \"Revenue\"]=response_is['quarterlyReports'][1]['totalRevenue']\n",
    "        df_2.loc[index, \"EBIT\"]=response_is['quarterlyReports'][1]['ebit']\n",
    "        # balance sheet calls\n",
    "        query_url_bs = f\"{url}function=BALANCE_SHEET&symbol={symbol}&apikey={api_key}\"\n",
    "        response_bs=requests.get(query_url_bs).json()\n",
    "        df_2.loc[index, \"Debt\"]=response_bs['quarterlyReports'][1]['longTermDebt']\n",
    "        # cash flow statement calls\n",
    "        query_url_cf = f\"{url}function=CASH_FLOW&symbol={symbol}&apikey={api_key}\"\n",
    "        response_cf=requests.get(query_url_cf).json()\n",
    "        df_2.loc[index, \"Dividend Payout\"]=response_cf['quarterlyReports'][1]['dividendPayout']\n",
    "    except (KeyError, IndexError):\n",
    "        (f'No ticker found')"
   ]
  },
  {
   "cell_type": "code",
   "execution_count": null,
   "metadata": {},
   "outputs": [],
   "source": [
    "# quarter 3\n",
    "df_3=pd.read_csv('Resources/Stocks_v3.csv')\n",
    "for index, row in df.iterrows():\n",
    "    try:\n",
    "        url = \"https://www.alphavantage.co/query?\"\n",
    "        symbol=row[\"Symbol\"]\n",
    "        # income statement calls\n",
    "        query_url_is = f\"{url}function=INCOME_STATEMENT&symbol={symbol}&apikey={api_key}\"\n",
    "        response_is=requests.get(query_url_is).json()\n",
    "        df_3.loc[index, \"Quarter\"]=response_is['quarterlyReports'][2]['fiscalDateEnding']\n",
    "        df_3.loc[index, \"Revenue\"]=response_is['quarterlyReports'][2]['totalRevenue']\n",
    "        df_3.loc[index, \"EBIT\"]=response_is['quarterlyReports'][2]['ebit']\n",
    "        # balance sheet calls\n",
    "        query_url_bs = f\"{url}function=BALANCE_SHEET&symbol={symbol}&apikey={api_key}\"\n",
    "        response_bs=requests.get(query_url_bs).json()\n",
    "        df_3.loc[index, \"Debt\"]=response_bs['quarterlyReports'][2]['longTermDebt']\n",
    "        # cash flow statement calls\n",
    "        query_url_cf = f\"{url}function=CASH_FLOW&symbol={symbol}&apikey={api_key}\"\n",
    "        response_cf=requests.get(query_url_cf).json()\n",
    "        df_3.loc[index, \"Dividend Payout\"]=response_cf['quarterlyReports'][2]['dividendPayout']\n",
    "    except (KeyError, IndexError):\n",
    "        (f'No ticker found')"
   ]
  },
  {
   "cell_type": "code",
   "execution_count": null,
   "metadata": {},
   "outputs": [],
   "source": [
    "# quarter 4\n",
    "df_4=pd.read_csv('Resources/Stocks_v3.csv')\n",
    "for index, row in df.iterrows():\n",
    "    try:\n",
    "        url = \"https://www.alphavantage.co/query?\"\n",
    "        symbol=row[\"Symbol\"]\n",
    "        # income statement calls\n",
    "        query_url_is = f\"{url}function=INCOME_STATEMENT&symbol={symbol}&apikey={api_key}\"\n",
    "        response_is=requests.get(query_url_is).json()\n",
    "        df_4.loc[index, \"Quarter\"]=response_is['quarterlyReports'][3]['fiscalDateEnding']\n",
    "        df_4.loc[index, \"Revenue\"]=response_is['quarterlyReports'][3]['totalRevenue']\n",
    "        df_4.loc[index, \"EBIT\"]=response_is['quarterlyReports'][3]['ebit']\n",
    "        # balance sheet calls\n",
    "        query_url_bs = f\"{url}function=BALANCE_SHEET&symbol={symbol}&apikey={api_key}\"\n",
    "        response_bs=requests.get(query_url_bs).json()\n",
    "        df_4.loc[index, \"Debt\"]=response_bs['quarterlyReports'][3]['longTermDebt']\n",
    "        # cash flow statement calls\n",
    "        query_url_cf = f\"{url}function=CASH_FLOW&symbol={symbol}&apikey={api_key}\"\n",
    "        response_cf=requests.get(query_url_cf).json()\n",
    "        df_4.loc[index, \"Dividend Payout\"]=response_cf['quarterlyReports'][3]['dividendPayout']\n",
    "    except (KeyError, IndexError):\n",
    "        (f'No ticker found')"
   ]
  },
  {
   "cell_type": "code",
   "execution_count": null,
   "metadata": {},
   "outputs": [],
   "source": [
    "# quarter 5\n",
    "df_5=pd.read_csv('Resources/Stocks_v3.csv')\n",
    "for index, row in df.iterrows():\n",
    "    try:\n",
    "        url = \"https://www.alphavantage.co/query?\"\n",
    "        symbol=row[\"Symbol\"]\n",
    "        # income statement calls\n",
    "        query_url_is = f\"{url}function=INCOME_STATEMENT&symbol={symbol}&apikey={api_key}\"\n",
    "        response_is=requests.get(query_url_is).json()\n",
    "        df_5.loc[index, \"Quarter\"]=response_is['quarterlyReports'][4]['fiscalDateEnding']\n",
    "        df_5.loc[index, \"Revenue\"]=response_is['quarterlyReports'][4]['totalRevenue']\n",
    "        df_5.loc[index, \"EBIT\"]=response_is['quarterlyReports'][4]['ebit']\n",
    "        # balance sheet calls\n",
    "        query_url_bs = f\"{url}function=BALANCE_SHEET&symbol={symbol}&apikey={api_key}\"\n",
    "        response_bs=requests.get(query_url_bs).json()\n",
    "        df_5.loc[index, \"Debt\"]=response_bs['quarterlyReports'][4]['longTermDebt']\n",
    "        # cash flow statement calls\n",
    "        query_url_cf = f\"{url}function=CASH_FLOW&symbol={symbol}&apikey={api_key}\"\n",
    "        response_cf=requests.get(query_url_cf).json()\n",
    "        df_5.loc[index, \"Dividend Payout\"]=response_cf['quarterlyReports'][4]['dividendPayout']\n",
    "    except (KeyError, IndexError):\n",
    "        (f'No ticker found')"
   ]
  },
  {
   "cell_type": "code",
   "execution_count": null,
   "metadata": {},
   "outputs": [],
   "source": [
    "# quarter 6\n",
    "df_6=pd.read_csv('Resources/Stocks_v3.csv')\n",
    "for index, row in df.iterrows():\n",
    "    try:\n",
    "        url = \"https://www.alphavantage.co/query?\"\n",
    "        symbol=row[\"Symbol\"]\n",
    "        # income statement calls\n",
    "        query_url_is = f\"{url}function=INCOME_STATEMENT&symbol={symbol}&apikey={api_key}\"\n",
    "        response_is=requests.get(query_url_is).json()\n",
    "        df_6.loc[index, \"Quarter\"]=response_is['quarterlyReports'][5]['fiscalDateEnding']\n",
    "        df_6.loc[index, \"Revenue\"]=response_is['quarterlyReports'][5]['totalRevenue']\n",
    "        df_6.loc[index, \"EBIT\"]=response_is['quarterlyReports'][5]['ebit']\n",
    "        # balance sheet calls\n",
    "        query_url_bs = f\"{url}function=BALANCE_SHEET&symbol={symbol}&apikey={api_key}\"\n",
    "        response_bs=requests.get(query_url_bs).json()\n",
    "        df_6.loc[index, \"Debt\"]=response_bs['quarterlyReports'][5]['longTermDebt']\n",
    "        # cash flow statement calls\n",
    "        query_url_cf = f\"{url}function=CASH_FLOW&symbol={symbol}&apikey={api_key}\"\n",
    "        response_cf=requests.get(query_url_cf).json()\n",
    "        df_6.loc[index, \"Dividend Payout\"]=response_cf['quarterlyReports'][5]['dividendPayout']\n",
    "    except (KeyError, IndexError):\n",
    "        (f'No ticker found')"
   ]
  },
  {
   "cell_type": "code",
   "execution_count": null,
   "metadata": {},
   "outputs": [],
   "source": [
    "# quarter 7\n",
    "df_7=pd.read_csv('Resources/Stocks_v3.csv')\n",
    "for index, row in df.iterrows():\n",
    "    try:\n",
    "        url = \"https://www.alphavantage.co/query?\"\n",
    "        symbol=row[\"Symbol\"]\n",
    "        # income statement calls\n",
    "        query_url_is = f\"{url}function=INCOME_STATEMENT&symbol={symbol}&apikey={api_key}\"\n",
    "        response_is=requests.get(query_url_is).json()\n",
    "        df_7.loc[index, \"Quarter\"]=response_is['quarterlyReports'][6]['fiscalDateEnding']\n",
    "        df_7.loc[index, \"Revenue\"]=response_is['quarterlyReports'][6]['totalRevenue']\n",
    "        df_7.loc[index, \"EBIT\"]=response_is['quarterlyReports'][6]['ebit']\n",
    "        # balance sheet calls\n",
    "        query_url_bs = f\"{url}function=BALANCE_SHEET&symbol={symbol}&apikey={api_key}\"\n",
    "        response_bs=requests.get(query_url_bs).json()\n",
    "        df_7.loc[index, \"Debt\"]=response_bs['quarterlyReports'][6]['longTermDebt']\n",
    "        # cash flow statement calls\n",
    "        query_url_cf = f\"{url}function=CASH_FLOW&symbol={symbol}&apikey={api_key}\"\n",
    "        response_cf=requests.get(query_url_cf).json()\n",
    "        df_7.loc[index, \"Dividend Payout\"]=response_cf['quarterlyReports'][6]['dividendPayout']\n",
    "    except (KeyError, IndexError):\n",
    "        (f'No ticker found')"
   ]
  },
  {
   "cell_type": "code",
   "execution_count": null,
   "metadata": {},
   "outputs": [],
   "source": [
    "# quarter 8\n",
    "df_8=pd.read_csv('Resources/Stocks_v3.csv')\n",
    "for index, row in df.iterrows():\n",
    "    try:\n",
    "        url = \"https://www.alphavantage.co/query?\"\n",
    "        symbol=row[\"Symbol\"]\n",
    "        # income statement calls\n",
    "        query_url_is = f\"{url}function=INCOME_STATEMENT&symbol={symbol}&apikey={api_key}\"\n",
    "        response_is=requests.get(query_url_is).json()\n",
    "        df_8.loc[index, \"Quarter\"]=response_is['quarterlyReports'][7]['fiscalDateEnding']\n",
    "        df_8.loc[index, \"Revenue\"]=response_is['quarterlyReports'][7]['totalRevenue']\n",
    "        df_8.loc[index, \"EBIT\"]=response_is['quarterlyReports'][7]['ebit']\n",
    "        # balance sheet calls\n",
    "        query_url_bs = f\"{url}function=BALANCE_SHEET&symbol={symbol}&apikey={api_key}\"\n",
    "        response_bs=requests.get(query_url_bs).json()\n",
    "        df_8.loc[index, \"Debt\"]=response_bs['quarterlyReports'][7]['longTermDebt']\n",
    "        # cash flow statement calls\n",
    "        query_url_cf = f\"{url}function=CASH_FLOW&symbol={symbol}&apikey={api_key}\"\n",
    "        response_cf=requests.get(query_url_cf).json()\n",
    "        df_8.loc[index, \"Dividend Payout\"]=response_cf['quarterlyReports'][7]['dividendPayout']\n",
    "    except (KeyError, IndexError):\n",
    "        (f'No ticker found')"
   ]
  },
  {
   "cell_type": "code",
   "execution_count": null,
   "metadata": {},
   "outputs": [],
   "source": [
    "# quarter 9\n",
    "df_9=pd.read_csv('Resources/Stocks_v3.csv')\n",
    "for index, row in df.iterrows():\n",
    "    try:\n",
    "        url = \"https://www.alphavantage.co/query?\"\n",
    "        symbol=row[\"Symbol\"]\n",
    "        # income statement calls\n",
    "        query_url_is = f\"{url}function=INCOME_STATEMENT&symbol={symbol}&apikey={api_key}\"\n",
    "        response_is=requests.get(query_url_is).json()\n",
    "        df_9.loc[index, \"Quarter\"]=response_is['quarterlyReports'][8]['fiscalDateEnding']\n",
    "        df_9.loc[index, \"Revenue\"]=response_is['quarterlyReports'][8]['totalRevenue']\n",
    "        df_9.loc[index, \"EBIT\"]=response_is['quarterlyReports'][8]['ebit']\n",
    "        # balance sheet calls\n",
    "        query_url_bs = f\"{url}function=BALANCE_SHEET&symbol={symbol}&apikey={api_key}\"\n",
    "        response_bs=requests.get(query_url_bs).json()\n",
    "        df_9.loc[index, \"Debt\"]=response_bs['quarterlyReports'][8]['longTermDebt']\n",
    "        # cash flow statement calls\n",
    "        query_url_cf = f\"{url}function=CASH_FLOW&symbol={symbol}&apikey={api_key}\"\n",
    "        response_cf=requests.get(query_url_cf).json()\n",
    "        df_9.loc[index, \"Dividend Payout\"]=response_cf['quarterlyReports'][8]['dividendPayout']\n",
    "    except (KeyError, IndexError):\n",
    "        (f'No ticker found')"
   ]
  },
  {
   "cell_type": "code",
   "execution_count": null,
   "metadata": {},
   "outputs": [],
   "source": [
    "# quarter 10\n",
    "df_10=pd.read_csv('Resources/Stocks_v3.csv')\n",
    "for index, row in df.iterrows():\n",
    "    try:\n",
    "        url = \"https://www.alphavantage.co/query?\"\n",
    "        symbol=row[\"Symbol\"]\n",
    "        # income statement calls\n",
    "        query_url_is = f\"{url}function=INCOME_STATEMENT&symbol={symbol}&apikey={api_key}\"\n",
    "        response_is=requests.get(query_url_is).json()\n",
    "        df_10.loc[index, \"Quarter\"]=response_is['quarterlyReports'][9]['fiscalDateEnding']\n",
    "        df_10.loc[index, \"Revenue\"]=response_is['quarterlyReports'][9]['totalRevenue']\n",
    "        df_10.loc[index, \"EBIT\"]=response_is['quarterlyReports'][9]['ebit']\n",
    "        # balance sheet calls\n",
    "        query_url_bs = f\"{url}function=BALANCE_SHEET&symbol={symbol}&apikey={api_key}\"\n",
    "        response_bs=requests.get(query_url_bs).json()\n",
    "        df_10.loc[index, \"Debt\"]=response_bs['quarterlyReports'][9]['longTermDebt']\n",
    "        # cash flow statement calls\n",
    "        query_url_cf = f\"{url}function=CASH_FLOW&symbol={symbol}&apikey={api_key}\"\n",
    "        response_cf=requests.get(query_url_cf).json()\n",
    "        df_10.loc[index, \"Dividend Payout\"]=response_cf['quarterlyReports'][9]['dividendPayout']\n",
    "    except (KeyError, IndexError):\n",
    "        (f'No ticker found')"
   ]
  },
  {
   "cell_type": "code",
   "execution_count": null,
   "metadata": {},
   "outputs": [],
   "source": [
    "# combine dataframes\n",
    "\n",
    "df_tot = df.append([df_2, df_3, df_4, df_5, df_6, df_7, df_8, df_9, df_10])"
   ]
  },
  {
   "cell_type": "code",
   "execution_count": null,
   "metadata": {},
   "outputs": [],
   "source": [
    "# convert to float datatype\n",
    "\n",
    "df_tot[\"Revenue\"] = pd.to_numeric(df_tot[\"Revenue\"], errors='coerce')\n",
    "df_tot[\"EBIT\"]=pd.to_numeric(df_tot[\"EBIT\"], errors='coerce')\n",
    "df_tot[\"Debt\"]=pd.to_numeric(df_tot[\"Debt\"], errors='coerce')\n",
    "df_tot[\"Dividend Payout\"]=pd.to_numeric(df_tot[\"Dividend Payout\"], errors='coerce')"
   ]
  },
  {
   "cell_type": "code",
   "execution_count": null,
   "metadata": {},
   "outputs": [],
   "source": [
    "# round to millions and rename columns\n",
    "\n",
    "df_tot[\"Revenue\"]=round(df_tot[\"Revenue\"]/1000000,2)\n",
    "df_tot[\"EBIT\"]=round(df_tot[\"EBIT\"]/1000000,2)\n",
    "df_tot[\"Debt\"]=round(df_tot[\"Debt\"]/1000000,2)\n",
    "df_tot[\"Dividend Payout\"]=round(df_tot[\"Dividend Payout\"]/1000000,2)"
   ]
  },
  {
   "cell_type": "code",
   "execution_count": null,
   "metadata": {},
   "outputs": [],
   "source": [
    "# add columns\n",
    "\n",
    "df_tot[\"Operating Margin (%)\"] = round(df_tot[\"EBIT\"]/df_tot[\"Revenue\"]*100,2)\n",
    "df_tot[\"Leverage (Debt/EBIT)\"] = round(df_tot[\"Debt\"]/(df_tot[\"EBIT\"]*4),2)\n",
    "df_tot[\"Payout (% of EBIT)\"] = -round((df_tot[\"Dividend Payout\"]/df_tot[\"EBIT\"])*100,2)"
   ]
  },
  {
   "cell_type": "code",
   "execution_count": null,
   "metadata": {},
   "outputs": [],
   "source": [
    "# print clean data to CSV\n",
    "\n",
    "df_tot.to_csv(\"Stock_outputs.csv\")"
   ]
  },
  {
   "cell_type": "markdown",
   "metadata": {},
   "source": [
    "# Section 2: Alpha Vantage, Data Manipulation & Visualization"
   ]
  },
  {
   "cell_type": "markdown",
   "metadata": {},
   "source": [
    "This section is used to analyze the output data from Section 1 and to process data into effective visual models."
   ]
  },
  {
   "cell_type": "code",
   "execution_count": null,
   "metadata": {},
   "outputs": [],
   "source": [
    "# read csv\n",
    "\n",
    "csv = pd.read_csv(\"developer/Daniel Jackson's Work/Stock_outputs.csv\")\n",
    "df = pd.DataFrame(csv)\n",
    "df.head()\n",
    "\n",
    "# formatting\n",
    "\n",
    "df = df.replace(np.nan,0)\n",
    "df=df[df['Quarter']!=0]\n",
    "df = df.sort_values('Quarter', ascending=True)\n",
    "df = df.reset_index()\n",
    "df.head()"
   ]
  },
  {
   "cell_type": "code",
   "execution_count": null,
   "metadata": {},
   "outputs": [],
   "source": [
    "# groupby mean values\n",
    "\n",
    "quarter_div = df[['Quarter', 'Dividend Payout($mm)']].groupby('Quarter').mean()['Dividend Payout($mm)']\n",
    "quarter_op = df[['Quarter', 'Operating Margin (%)']].groupby('Quarter').mean()['Operating Margin (%)']\n",
    "quarter_lev = df[['Quarter', 'Leverage (Debt/EBIT)']].groupby('Quarter').mean()['Leverage (Debt/EBIT)']\n",
    "quarter_ebit = df[['Quarter', 'Payout (% of EBIT)']].groupby('Quarter').mean()['Payout (% of EBIT)']\n",
    "\n",
    "\n",
    "quarterly_dict = {\n",
    "    'Average Quarterly Dividend Payout': quarter_div,\n",
    "    'Average Quarterly Operating Margin (%)': quarter_op,\n",
    "    'Average Quarterly Leverage Ratio': quarter_lev,\n",
    "    'Average Quarterly EBIT': quarter_ebit\n",
    "}\n",
    "quarterly_data = pd.DataFrame(quarterly_dict)\n",
    "quarterly_data=quarterly_data.reset_index()\n",
    "quarterly_data.head()"
   ]
  },
  {
   "cell_type": "code",
   "execution_count": null,
   "metadata": {},
   "outputs": [],
   "source": [
    "# dividend payout per quarter visualization\n",
    "\n",
    "x_values = df['Quarter']\n",
    "y_values = df['Dividend Payout($mm)']\n",
    "plt.scatter(x_values, y_values, label=\"Actual Quarterly Dividend Payouts\")\n",
    "\n",
    "# average dividend payout over visualization\n",
    "\n",
    "x_values = quarterly_data['Quarter']\n",
    "y_values = quarterly_data['Average Quarterly Dividend Payout']\n",
    "plt.scatter(x_values, y_values, label=\"Average Quarterly Dividend Payout\")\n",
    "\n",
    "# formatting\n",
    "\n",
    "plt.xlabel(\"Quarterly Periods (Q4 2017-Q2 2020)\")\n",
    "plt.ylabel(\"Dividend Payout($mm)\")\n",
    "plt.title(\"Quarterly Dividend Payout in Millions (Actuals vs. Average)\")\n",
    "plt.legend(loc='upper right')\n",
    "plt.xticks(rotation=45)\n",
    "plt.ylim(1000,-1000)\n",
    "plt.tight_layout()\n",
    "\n",
    "# save output\n",
    "\n",
    "plt.savefig(\"../visualizations/dividend_payout_per_quarter.png\")"
   ]
  },
  {
   "cell_type": "code",
   "execution_count": null,
   "metadata": {},
   "outputs": [],
   "source": [
    "# operating margin per quarter visualization\n",
    "\n",
    "x_values = df['Quarter']\n",
    "y_values = df['Operating Margin (%)']\n",
    "plt.scatter(x_values, y_values, label=\"Actual Quarterly Operating Margins\")\n",
    "\n",
    "# average operating margin per quarter visualization\n",
    "\n",
    "x_values = quarterly_data['Quarter']\n",
    "y_values = quarterly_data['Average Quarterly Operating Margin (%)']\n",
    "plt.scatter(x_values, y_values, label=\"Average Quarterly Operating Margin\")\n",
    "\n",
    "# formatting\n",
    "\n",
    "plt.xlabel(\"Quarterly Periods (Q4 2017-Q2 2020)\")\n",
    "plt.ylabel(\"Operating Margin (%)\")\n",
    "plt.title(\"Quarterly Operating Margin (Actuals vs. Average)\")\n",
    "plt.legend(loc='upper right')\n",
    "plt.xticks(rotation=45)\n",
    "plt.ylim(-500,500)\n",
    "plt.tight_layout()\n",
    "\n",
    "# save output\n",
    "\n",
    "plt.savefig(\"../visualizations/operating_margin_per_quarter.png\")"
   ]
  },
  {
   "cell_type": "code",
   "execution_count": null,
   "metadata": {},
   "outputs": [],
   "source": [
    "# leverage per quarter visualization\n",
    "\n",
    "x_values = df['Quarter']\n",
    "y_values = df['Leverage (Debt/EBIT)']\n",
    "plt.scatter(x_values, y_values, label=\"Actual Quarterly Leverage Values (Debt/EBIT)\")\n",
    "\n",
    "# average leverage per quarter visualization\n",
    "\n",
    "x_values = quarterly_data['Quarter']\n",
    "y_values = quarterly_data['Average Quarterly Leverage Ratio']\n",
    "plt.scatter(x_values, y_values, label=\"Average Quarterly Leverage (Debt/EBIT)\")\n",
    "\n",
    "# formatting\n",
    "\n",
    "plt.xlabel(\"Quarterly Periods (Q4 2017-Q2 2020)\")\n",
    "plt.ylabel(\"Leverage (Debt/EBIT)\")\n",
    "plt.title(\"Quarterly Leverage (Actuals vs. Average)\")\n",
    "plt.legend(loc='upper right')\n",
    "plt.xticks(rotation=45)\n",
    "plt.ylim(-20,20)\n",
    "plt.tight_layout()\n",
    "\n",
    "# save output\n",
    "\n",
    "plt.savefig(\"../visualizations/leverage_per_quarter.png\")"
   ]
  },
  {
   "cell_type": "code",
   "execution_count": null,
   "metadata": {},
   "outputs": [],
   "source": [
    "# EBIT payout per quarter visualization\n",
    "\n",
    "x_values = df['Quarter']\n",
    "y_values = df['Payout (% of EBIT)']\n",
    "plt.scatter(x_values, y_values, label=\"Actual Quarterly Payouts (% of EBIT)\")\n",
    "\n",
    "# average EBIT payout per quarter visualization\n",
    "\n",
    "x_values = quarterly_data['Quarter']\n",
    "y_values = quarterly_data['Average Quarterly EBIT']\n",
    "plt.scatter(x_values, y_values, label=\"Average Quarterly Payout (% of EBIT)\")\n",
    "\n",
    "# formatting\n",
    "\n",
    "plt.xlabel(\"Quarterly Periods (Q4 2017-Q2 2020)\")\n",
    "plt.ylabel(\"Payout (% of EBIT)\")\n",
    "plt.title(\"Quarterly EBIT Payout (Actuals vs. Average)\")\n",
    "plt.legend(loc='upper right')\n",
    "plt.xticks(rotation=45)\n",
    "plt.ylim(-300,300)\n",
    "plt.tight_layout()\n",
    "\n",
    "# save output\n",
    "\n",
    "plt.savefig(\"../visualizations/EBIT_payout_per_quarter.png\")"
   ]
  },
  {
   "cell_type": "code",
   "execution_count": null,
   "metadata": {},
   "outputs": [],
   "source": [
    "# average dividend payout over time visualization\n",
    "\n",
    "average_quarterly_dividend_payout=pd.DataFrame(quarterly_dict['Average Quarterly Dividend Payout'])\n",
    "average_quarterly_dividend_payout.plot(kind='bar',color='g')\n",
    "\n",
    "# formatting\n",
    "\n",
    "plt.xlabel(\"Quarterly Periods (Q4 2017-Q2 2020)\")\n",
    "plt.ylabel(\"Dividend Payout($mm)\")\n",
    "plt.title(\"Average Quarterly Dividend Payout\")\n",
    "plt.xticks(rotation=45)\n",
    "plt.tight_layout()\n",
    "\n",
    "# save output\n",
    "\n",
    "plt.savefig(\"../visualizations/average_dividend_payout_over_time\")"
   ]
  },
  {
   "cell_type": "code",
   "execution_count": null,
   "metadata": {},
   "outputs": [],
   "source": [
    "# average operating margin over time visualization\n",
    "\n",
    "average_quarterly_operating_margin=pd.DataFrame(quarterly_dict['Average Quarterly Operating Margin (%)'])\n",
    "average_quarterly_operating_margin.plot(kind='bar',color='r')\n",
    "\n",
    "# formatting\n",
    "\n",
    "plt.xlabel(\"Quarterly Periods (Q4 2017-Q2 2020)\")\n",
    "plt.ylabel(\"Operating Margin (%)\")\n",
    "plt.title(\"Average Quarterly Operating Margin (%)\")\n",
    "plt.xticks(rotation=45)\n",
    "plt.tight_layout()\n",
    "\n",
    "# save output\n",
    "\n",
    "plt.savefig(\"../visualizations/average_operating_margin_over_time\")"
   ]
  },
  {
   "cell_type": "code",
   "execution_count": null,
   "metadata": {},
   "outputs": [],
   "source": [
    "# average leverage over time visualization\n",
    "\n",
    "average_quarterly_leverage=pd.DataFrame(quarterly_dict['Average Quarterly Leverage Ratio'])\n",
    "average_quarterly_leverage.plot(kind='line',color='b')\n",
    "\n",
    "# formatting\n",
    "\n",
    "plt.xlabel(\"Quarterly Periods (Q4 2017-Q2 2020)\")\n",
    "plt.ylabel(\"Leverage (Debt/EBIT)\")\n",
    "plt.title(\"Average Quarterly Leverage Ratio\")\n",
    "plt.xticks(rotation=45)\n",
    "plt.tight_layout()\n",
    "\n",
    "# save output\n",
    "\n",
    "plt.savefig(\"../visualizations/average_leverage_over_time\")"
   ]
  },
  {
   "cell_type": "code",
   "execution_count": null,
   "metadata": {},
   "outputs": [],
   "source": [
    "# average EBIT over time visualization\n",
    "\n",
    "average_quarterly_ebit=pd.DataFrame(quarterly_dict['Average Quarterly EBIT'])\n",
    "average_quarterly_ebit.plot(kind='bar',color='y')\n",
    "\n",
    "# formatting\n",
    "\n",
    "plt.xlabel(\"Quarterly Periods (Q4 2017-Q2 2020)\")\n",
    "plt.ylabel(\"Payout (% of EBIT)\")\n",
    "plt.title(\"Average Quarterly EBIT\")\n",
    "plt.xticks(rotation=45)\n",
    "plt.tight_layout()\n",
    "\n",
    "# save output\n",
    "\n",
    "plt.savefig(\"../visualizations/average_EBIT_over_time\")"
   ]
  },
  {
   "cell_type": "markdown",
   "metadata": {},
   "source": [
    "# Section 3: Analysis of Robin Track data"
   ]
  },
  {
   "cell_type": "markdown",
   "metadata": {},
   "source": [
    "This section derives from Robinhood's stock data and is leveraged to analyze stock behavior per month over a couple of years to date, complete with visual models."
   ]
  },
  {
   "cell_type": "code",
   "execution_count": null,
   "metadata": {},
   "outputs": [],
   "source": [
    "# pull tickers & create dataframe\n",
    "\n",
    "df = pd.DataFrame()\n",
    "\n",
    "for f in glob.glob('data_csv/*'):\n",
    "    #trim company name from csv file name 'company'\n",
    "    co_name = f.split('/')[1].split('.')[0]\n",
    "    print(co_name)\n",
    "    #fill company column with company value\n",
    "    data = pd.read_csv(f, index_col=None,header=0)\n",
    "    data['company'] = co_name\n",
    "    df = df.append(data, ignore_index=True)"
   ]
  },
  {
   "cell_type": "code",
   "execution_count": null,
   "metadata": {},
   "outputs": [],
   "source": [
    "# pull tickers & create dataframe\n",
    "\n",
    "df_2 = pd.DataFrame()\n",
    "\n",
    "for f in glob.glob('data_csv/*'):\n",
    "    #trim company name from csv file name 'company'\n",
    "    co_name = f.split('/')[1].split('.')[0]\n",
    "    print(co_name)\n",
    "    data = pd.read_csv(f, index_col=None,header=0)\n",
    "    data['company'] = co_name\n",
    "    df_2 = df_2.append(data, ignore_index=True)"
   ]
  },
  {
   "cell_type": "code",
   "execution_count": null,
   "metadata": {},
   "outputs": [],
   "source": [
    "# value counts\n",
    "\n",
    "df['company'].value_counts()"
   ]
  },
  {
   "cell_type": "code",
   "execution_count": null,
   "metadata": {},
   "outputs": [],
   "source": [
    "# create timestamp, add to dataframe\n",
    "\n",
    "df['timestamp'] = pd.to_datetime(df['timestamp'])\n",
    "df.info()"
   ]
  },
  {
   "cell_type": "code",
   "execution_count": null,
   "metadata": {},
   "outputs": [],
   "source": [
    "# designate timestamp as index\n",
    "\n",
    "df.set_index('timestamp', inplace=True)\n",
    "print(type(df))"
   ]
  },
  {
   "cell_type": "code",
   "execution_count": null,
   "metadata": {},
   "outputs": [],
   "source": [
    "df.columns"
   ]
  },
  {
   "cell_type": "code",
   "execution_count": null,
   "metadata": {},
   "outputs": [],
   "source": [
    "# compute average values and put into new dataframe\n",
    "\n",
    "df_per_company=df.pivot(columns='company', values='users_holding')\n",
    "print(df_per_company.columns)\n",
    "avg_per_company=df_per_company.resample('M').mean()\n",
    "avg_per_company"
   ]
  },
  {
   "cell_type": "code",
   "execution_count": null,
   "metadata": {},
   "outputs": [],
   "source": [
    "# create line graph model of average holdings over time and output to visualizations directory\n",
    "\n",
    "avg_per_company.plot(kind='line')\n",
    "plt.title(\"Average Holdings Over Time\")\n",
    "plt.ylabel(\"Average Holdings per Company\")\n",
    "plt.xlabel(\"Timeframe (May 2018-July 2020)\")\n",
    "plt.legend().set_visible(False)\n",
    "plt.tight_layout()\n",
    "plt.savefig(\"../visualizations/average_holdings_over_time_line.png\")"
   ]
  },
  {
   "cell_type": "code",
   "execution_count": null,
   "metadata": {},
   "outputs": [],
   "source": [
    "# create line graph model of average holdings of top three performiing companies \n",
    "# over time and output to visualizations directory\n",
    "\n",
    "avg_per_company[['VSLR','MRO','XOM']].plot()"
   ]
  },
  {
   "cell_type": "code",
   "execution_count": null,
   "metadata": {},
   "outputs": [],
   "source": [
    "# compute averages\n",
    "# groupy by timestamp\n",
    "# create dictionary\n",
    "# create dataframe of dictionary\n",
    "\n",
    "mean = data[['timestamp', 'users_holding']].groupby('timestamp').mean()['users_holding']\n",
    "median = data[['timestamp', 'users_holding']].groupby('timestamp').median()['users_holding']\n",
    "\n",
    "\n",
    "statistics_dict={\n",
    "    'Mean' : mean,\n",
    "    'Median' : median,\n",
    "}\n",
    "summary_statistics=pd.DataFrame(statistics_dict)\n",
    "#summary of table\n",
    "summary_statistics"
   ]
  },
  {
   "cell_type": "code",
   "execution_count": null,
   "metadata": {},
   "outputs": [],
   "source": [
    "# create new dataframe\n",
    "\n",
    "mean_holdings_df=df.resample('M').mean()\n",
    "mean_holdings_df"
   ]
  },
  {
   "cell_type": "code",
   "execution_count": null,
   "metadata": {},
   "outputs": [],
   "source": [
    "# new bar graph model representing holdings over time\n",
    "\n",
    "mean_holdings_df.plot(kind='bar')\n",
    "plt.savefig(\"../visualizations/average_holdings_over_time_bar.png\")"
   ]
  }
 ],
 "metadata": {
  "kernelspec": {
   "display_name": "Python 3",
   "language": "python",
   "name": "python3"
  },
  "language_info": {
   "codemirror_mode": {
    "name": "ipython",
    "version": 3
   },
   "file_extension": ".py",
   "mimetype": "text/x-python",
   "name": "python",
   "nbconvert_exporter": "python",
   "pygments_lexer": "ipython3",
   "version": "3.7.6"
  }
 },
 "nbformat": 4,
 "nbformat_minor": 4
}
