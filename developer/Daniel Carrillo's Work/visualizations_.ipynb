{
 "cells": [
  {
   "cell_type": "code",
   "execution_count": 121,
   "metadata": {},
   "outputs": [],
   "source": [
    "# Dependencies\n",
    "import time\n",
    "import json\n",
    "import requests\n",
    "from scipy.stats import linregress\n",
    "from matplotlib import pyplot as plt\n",
    "from scipy.stats import stats\n",
    "from sklearn import datasets\n",
    "import pandas as pd\n",
    "import numpy as np\n",
    "from csv import writer\n",
    "from csv import reader\n",
    "\n",
    "%matplotlib inline"
   ]
  },
  {
   "cell_type": "code",
   "execution_count": 126,
   "metadata": {
    "collapsed": true
   },
   "outputs": [
    {
     "data": {
      "text/html": [
       "<div>\n",
       "<style scoped>\n",
       "    .dataframe tbody tr th:only-of-type {\n",
       "        vertical-align: middle;\n",
       "    }\n",
       "\n",
       "    .dataframe tbody tr th {\n",
       "        vertical-align: top;\n",
       "    }\n",
       "\n",
       "    .dataframe thead th {\n",
       "        text-align: right;\n",
       "    }\n",
       "</style>\n",
       "<table border=\"1\" class=\"dataframe\">\n",
       "  <thead>\n",
       "    <tr style=\"text-align: right;\">\n",
       "      <th></th>\n",
       "      <th>Unnamed: 0</th>\n",
       "      <th>Symbol</th>\n",
       "      <th>Name</th>\n",
       "      <th>Exchange</th>\n",
       "      <th>Quarter</th>\n",
       "      <th>Revenue($mm)</th>\n",
       "      <th>EBIT($mm)</th>\n",
       "      <th>Debt($mm)</th>\n",
       "      <th>Dividend Payout($mm)</th>\n",
       "      <th>Operating Margin (%)</th>\n",
       "      <th>Leverage (Debt/EBIT)</th>\n",
       "      <th>Payout (% of EBIT)</th>\n",
       "    </tr>\n",
       "  </thead>\n",
       "  <tbody>\n",
       "    <tr>\n",
       "      <th>0</th>\n",
       "      <td>0</td>\n",
       "      <td>APA</td>\n",
       "      <td>Apache Corp</td>\n",
       "      <td>S&amp;P500</td>\n",
       "      <td>2020-06-30</td>\n",
       "      <td>0.0</td>\n",
       "      <td>0.0</td>\n",
       "      <td>0.0</td>\n",
       "      <td>0.0</td>\n",
       "      <td>0.00</td>\n",
       "      <td>0.00</td>\n",
       "      <td>0.00</td>\n",
       "    </tr>\n",
       "    <tr>\n",
       "      <th>1</th>\n",
       "      <td>1</td>\n",
       "      <td>BKR</td>\n",
       "      <td>Baker Hughes</td>\n",
       "      <td>S&amp;P500</td>\n",
       "      <td>2020-06-30</td>\n",
       "      <td>4736.0</td>\n",
       "      <td>32.0</td>\n",
       "      <td>6766.0</td>\n",
       "      <td>-118.0</td>\n",
       "      <td>0.68</td>\n",
       "      <td>52.86</td>\n",
       "      <td>368.75</td>\n",
       "    </tr>\n",
       "    <tr>\n",
       "      <th>2</th>\n",
       "      <td>2</td>\n",
       "      <td>COG</td>\n",
       "      <td>Cabot Oil &amp; Gas Corp</td>\n",
       "      <td>S&amp;P500</td>\n",
       "      <td>2020-06-30</td>\n",
       "      <td>0.0</td>\n",
       "      <td>0.0</td>\n",
       "      <td>0.0</td>\n",
       "      <td>0.0</td>\n",
       "      <td>0.00</td>\n",
       "      <td>0.00</td>\n",
       "      <td>0.00</td>\n",
       "    </tr>\n",
       "    <tr>\n",
       "      <th>3</th>\n",
       "      <td>3</td>\n",
       "      <td>COP</td>\n",
       "      <td>Conocophillips</td>\n",
       "      <td>S&amp;P500</td>\n",
       "      <td>2020-06-30</td>\n",
       "      <td>2749.0</td>\n",
       "      <td>1381.0</td>\n",
       "      <td>14852.0</td>\n",
       "      <td>-455.0</td>\n",
       "      <td>50.24</td>\n",
       "      <td>2.69</td>\n",
       "      <td>32.95</td>\n",
       "    </tr>\n",
       "    <tr>\n",
       "      <th>4</th>\n",
       "      <td>4</td>\n",
       "      <td>CVX</td>\n",
       "      <td>Chevron Corp</td>\n",
       "      <td>S&amp;P500</td>\n",
       "      <td>2020-06-30</td>\n",
       "      <td>0.0</td>\n",
       "      <td>0.0</td>\n",
       "      <td>0.0</td>\n",
       "      <td>0.0</td>\n",
       "      <td>0.00</td>\n",
       "      <td>0.00</td>\n",
       "      <td>0.00</td>\n",
       "    </tr>\n",
       "  </tbody>\n",
       "</table>\n",
       "</div>"
      ],
      "text/plain": [
       "   Unnamed: 0 Symbol                  Name Exchange     Quarter  Revenue($mm)  \\\n",
       "0           0    APA           Apache Corp   S&P500  2020-06-30           0.0   \n",
       "1           1    BKR          Baker Hughes   S&P500  2020-06-30        4736.0   \n",
       "2           2    COG  Cabot Oil & Gas Corp   S&P500  2020-06-30           0.0   \n",
       "3           3    COP        Conocophillips   S&P500  2020-06-30        2749.0   \n",
       "4           4    CVX          Chevron Corp   S&P500  2020-06-30           0.0   \n",
       "\n",
       "   EBIT($mm)  Debt($mm)  Dividend Payout($mm)  Operating Margin (%)  \\\n",
       "0        0.0        0.0                   0.0                  0.00   \n",
       "1       32.0     6766.0                -118.0                  0.68   \n",
       "2        0.0        0.0                   0.0                  0.00   \n",
       "3     1381.0    14852.0                -455.0                 50.24   \n",
       "4        0.0        0.0                   0.0                  0.00   \n",
       "\n",
       "   Leverage (Debt/EBIT)  Payout (% of EBIT)  \n",
       "0                  0.00                0.00  \n",
       "1                 52.86              368.75  \n",
       "2                  0.00                0.00  \n",
       "3                  2.69               32.95  \n",
       "4                  0.00                0.00  "
      ]
     },
     "execution_count": 126,
     "metadata": {},
     "output_type": "execute_result"
    }
   ],
   "source": [
    "# read from Daniel Jackson's csv\n",
    "csv = pd.read_csv(\"../Daniel Jackson's Work/Stock_outputs.csv\")\n",
    "df = pd.DataFrame(csv)\n",
    "df.head()\n",
    "\n",
    "# convert NaN to zero values\n",
    "df = df.replace(np.nan,0)\n",
    "df=df[df['Quarter']!=0]\n",
    "\n",
    "# map formatting\n",
    "# df[\"Revenue($mm)\"] = df[\"Revenue($mm)\"].map(\"${:,.2f}\".format)\n",
    "# df[\"EBIT($mm)\"] = df[\"EBIT($mm)\"].map(\"${:,.2f}\".format)\n",
    "# df[\"Debt($mm)\"] = df[\"Debt($mm)\"].map(\"${:,.2f}\".format)\n",
    "# df[\"Dividend Payout($mm)\"] = df[\"Dividend Payout($mm)\"].map(\"${:,.2f}\".format)\n",
    "# df[\"Operating Margin (%)\"] = df[\"Operating Margin (%)\"].map(\"{:,.2f} %\".format)\n",
    "# df[\"Payout (% of EBIT)\"] = df[\"Payout (% of EBIT)\"].map(\"{:,.2f} %\".format)\n",
    "\n",
    "df.head()"
   ]
  },
  {
   "cell_type": "code",
   "execution_count": 127,
   "metadata": {},
   "outputs": [
    {
     "name": "stdout",
     "output_type": "stream",
     "text": [
      "The variance using the NumPy module is 404487.72754647053\n",
      "The standard deviation using the NumPy module is 635.9934964655461\n",
      "Roughly 68% of the data is between -879.465 and 392.522\n",
      "Roughly 95% of the data is between -1515.458 and 1028.516\n",
      "Roughly 99.7% of the data is between -2151.452 and 1664.509\n"
     ]
    }
   ],
   "source": [
    "div = df[\"Dividend Payout($mm)\"]\n",
    "new_div = div.dropna()\n",
    "\n",
    "variance = np.var(new_div)\n",
    "print(f\"The variance using the NumPy module is {variance}\")\n",
    "\n",
    "sd_numpy = np.std(new_div,ddof = 0)\n",
    "print(f\"The standard deviation using the NumPy module is {sd_numpy}\")\n",
    "\n",
    "mean_numpy = np.mean(new_div)\n",
    "\n",
    "print(f\"Roughly 68% of the data is between {round(mean_numpy-sd_numpy,3)} and {round(mean_numpy+sd_numpy,3)}\")\n",
    "print(f\"Roughly 95% of the data is between {round(mean_numpy-2*sd_numpy,3)} and {round(mean_numpy+2*sd_numpy,3)}\")\n",
    "print(f\"Roughly 99.7% of the data is between {round(mean_numpy-3*sd_numpy,3)} and {round(mean_numpy+3*sd_numpy,3)}\")"
   ]
  },
  {
   "cell_type": "code",
   "execution_count": 129,
   "metadata": {
    "scrolled": true
   },
   "outputs": [
    {
     "data": {
      "text/plain": [
       "[<matplotlib.lines.Line2D at 0x7feb87886f50>]"
      ]
     },
     "execution_count": 129,
     "metadata": {},
     "output_type": "execute_result"
    },
    {
     "data": {
      "image/png": "[encoded data removed]",
      "text/plain": [
       "<Figure size 432x288 with 1 Axes>"
      ]
     },
     "metadata": {
      "needs_background": "light"
     },
     "output_type": "display_data"
    }
   ],
   "source": [
    "\n",
    "\n",
    "# filter_data = df.loc[df['Symbol'] == 'APA', :]\n",
    "# filter_df = pd.DataFrame(filter_data)\n",
    "# filter_df\n",
    "\n",
    "\n",
    "x_values = df['Quarter']\n",
    "y_values = df['Dividend Payout($mm)']\n",
    "plt.plot(x_values, y_values)\n",
    "\n"
   ]
  },
  {
   "cell_type": "code",
   "execution_count": null,
   "metadata": {},
   "outputs": [],
   "source": []
  },
  {
   "cell_type": "code",
   "execution_count": null,
   "metadata": {},
   "outputs": [],
   "source": []
  }
 ],
 "metadata": {
  "kernelspec": {
   "display_name": "Python 3",
   "language": "python",
   "name": "python3"
  },
  "language_info": {
   "codemirror_mode": {
    "name": "ipython",
    "version": 3
   },
   "file_extension": ".py",
   "mimetype": "text/x-python",
   "name": "python",
   "nbconvert_exporter": "python",
   "pygments_lexer": "ipython3",
   "version": "3.7.6"
  }
 },
 "nbformat": 4,
 "nbformat_minor": 4
}
